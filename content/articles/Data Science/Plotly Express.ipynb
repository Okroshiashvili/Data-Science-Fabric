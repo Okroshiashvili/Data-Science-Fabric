{
 "cells": [
  {
   "cell_type": "markdown",
   "metadata": {},
   "source": [
    "I fairly believe that, if someone is good at data visualization he/she at least has heard about Hans Rosling. One of the most influential data storyteller, and honestly because of the [talk](https://www.ted.com/talks/hans_rosling_shows_the_best_stats_you_ve_ever_seen) he gave at TED, it influenced me too much that I decided to learn data visualization. Since then, I had some progress as well some stagnation but the most noteworthy thing here is that I got my hands dirty with great data visualization tools such as [matplotlib](https://matplotlib.org/), [seaborn](https://seaborn.pydata.org/), [Bokeh](https://bokeh.pydata.org/en/latest/), [altair](https://altair-viz.github.io/), and [plotly](https://plot.ly/python/). "
   ]
  },
  {
   "cell_type": "markdown",
   "metadata": {},
   "source": [
    "All of these data visualization tools is great in its own niche and describing the pros and cons of each other is the matter of another separate blog. Having in mind that today's world is more interactive and most data viz wizards like \"one line\" solutions(almost true), Plotly made a huge improvement in this direction. Two days ago they introduced [Plotly Express](https://twitter.com/plotlygraphs/status/1108395986626494467) which is a new high-level Python visualization library. Long story short it is the wrapper for [Plotly.py](https://plot.ly/python/) that makes building complex charts simple."
   ]
  },
  {
   "cell_type": "markdown",
   "metadata": {},
   "source": [
    "Developers main aim for building plotly express:\n",
    "\n",
    "> Our main goal with Plotly Express was to make it easier to use Plotly.py for exploration and rapid iteration."
   ]
  },
  {
   "cell_type": "markdown",
   "metadata": {},
   "source": [
    "Let's go through some example and see how plotly express works."
   ]
  },
  {
   "cell_type": "code",
   "execution_count": 1,
   "metadata": {},
   "outputs": [],
   "source": [
    "import plotly_express as px\n",
    "import plotly.offline as pyo\n",
    "from IPython.display import IFrame"
   ]
  },
  {
   "cell_type": "code",
   "execution_count": 2,
   "metadata": {},
   "outputs": [],
   "source": [
    "# Plotly Express has build in datasets. You can load this datasets by uncommenting below.\n",
    "# For expositional purposes, I use well-known gapminder data\n",
    "\n",
    "gapminder = px.data.gapminder()\n",
    "\n",
    "# iris = px.data.iris()\n",
    "\n",
    "# tips = px.data.tips()\n",
    "\n",
    "# election = px.data.election()\n",
    "\n",
    "# wind = px.data.wind()\n",
    "\n",
    "# carshare = px.data.carshare()"
   ]
  },
  {
   "cell_type": "code",
   "execution_count": 3,
   "metadata": {
    "scrolled": true
   },
   "outputs": [],
   "source": [
    "# Extract data for 2007\n",
    "\n",
    "gapminder2007 = gapminder.query(\"year == 2007\")"
   ]
  },
  {
   "cell_type": "code",
   "execution_count": null,
   "metadata": {},
   "outputs": [],
   "source": [
    "# Simple scatter plot.\n",
    "\n",
    "# GDP Per Capita vs Life Expectancy\n",
    "\n",
    "px.scatter(gapminder2007, x=\"gdpPercap\", y=\"lifeExp\", labels={'gdpPercap':'GDP Per Capita', 'lifeExp':'Life Expectancy'})"
   ]
  },
  {
   "cell_type": "markdown",
   "metadata": {},
   "source": [
    "Pelican produces static html files. So, plotly interactive charts do not show up. Firstly, I converted plotly chart into standalone html file and then added by using IFrame tag. That's why it is here."
   ]
  },
  {
   "cell_type": "code",
   "execution_count": 4,
   "metadata": {},
   "outputs": [
    {
     "data": {
      "text/html": [
       "\n",
       "        <iframe\n",
       "            width=\"900\"\n",
       "            height=\"700\"\n",
       "            src=\"../../images/first_plot.html\"\n",
       "            frameborder=\"0\"\n",
       "            allowfullscreen\n",
       "        ></iframe>\n",
       "        "
      ],
      "text/plain": [
       "<IPython.lib.display.IFrame at 0x7f4c40b41518>"
      ]
     },
     "execution_count": 4,
     "metadata": {},
     "output_type": "execute_result"
    }
   ],
   "source": [
    "IFrame(src='../../images/first_plot.html', width=900, height=700)"
   ]
  },
  {
   "cell_type": "markdown",
   "metadata": {},
   "source": [
    "Each point represents country with its own continent. To see continents we can color each dot by continent name."
   ]
  },
  {
   "cell_type": "code",
   "execution_count": null,
   "metadata": {},
   "outputs": [],
   "source": [
    "px.scatter(gapminder2007, x=\"gdpPercap\", y=\"lifeExp\", color='continent', labels={'gdpPercap':'GDP Per Capita', 'lifeExp':'Life Expectancy'})"
   ]
  },
  {
   "cell_type": "code",
   "execution_count": 5,
   "metadata": {},
   "outputs": [
    {
     "data": {
      "text/html": [
       "\n",
       "        <iframe\n",
       "            width=\"900\"\n",
       "            height=\"700\"\n",
       "            src=\"../../images/second_plot.html\"\n",
       "            frameborder=\"0\"\n",
       "            allowfullscreen\n",
       "        ></iframe>\n",
       "        "
      ],
      "text/plain": [
       "<IPython.lib.display.IFrame at 0x7f4c40b41400>"
      ]
     },
     "execution_count": 5,
     "metadata": {},
     "output_type": "execute_result"
    }
   ],
   "source": [
    "IFrame(src='../../images/second_plot.html', width=900, height=700)"
   ]
  },
  {
   "cell_type": "markdown",
   "metadata": {},
   "source": [
    "And, what if we want to adjust each point size as it to be the country population size? That's should not be a problem."
   ]
  },
  {
   "cell_type": "code",
   "execution_count": null,
   "metadata": {},
   "outputs": [],
   "source": [
    "px.scatter(gapminder2007, x=\"gdpPercap\", y=\"lifeExp\", color='continent', size='pop', size_max=60, labels={'gdpPercap':'GDP Per Capita', 'lifeExp':'Life Expectancy'})"
   ]
  },
  {
   "cell_type": "code",
   "execution_count": 6,
   "metadata": {},
   "outputs": [
    {
     "data": {
      "text/html": [
       "\n",
       "        <iframe\n",
       "            width=\"900\"\n",
       "            height=\"700\"\n",
       "            src=\"../../images/third_plot.html\"\n",
       "            frameborder=\"0\"\n",
       "            allowfullscreen\n",
       "        ></iframe>\n",
       "        "
      ],
      "text/plain": [
       "<IPython.lib.display.IFrame at 0x7f4c40b412b0>"
      ]
     },
     "execution_count": 6,
     "metadata": {},
     "output_type": "execute_result"
    }
   ],
   "source": [
    "IFrame(src='../../images/third_plot.html', width=900, height=700)"
   ]
  },
  {
   "cell_type": "markdown",
   "metadata": {},
   "source": [
    "If we put mouse to each data point the point description will appear. It shows continent name, x and y coordinates, and population size. As we already know each point is a country but it's not properly shown in the description. We can achieve this easily."
   ]
  },
  {
   "cell_type": "code",
   "execution_count": null,
   "metadata": {},
   "outputs": [],
   "source": [
    "fig = px.scatter(gapminder2007, x=\"gdpPercap\", y=\"lifeExp\", color='continent', size='pop', size_max=60, hover_name='country', labels={'gdpPercap':'GDP Per Capita', 'lifeExp':'Life Expectancy'})"
   ]
  },
  {
   "cell_type": "code",
   "execution_count": 7,
   "metadata": {},
   "outputs": [
    {
     "data": {
      "text/html": [
       "\n",
       "        <iframe\n",
       "            width=\"900\"\n",
       "            height=\"700\"\n",
       "            src=\"../../images/fourth_plot.html\"\n",
       "            frameborder=\"0\"\n",
       "            allowfullscreen\n",
       "        ></iframe>\n",
       "        "
      ],
      "text/plain": [
       "<IPython.lib.display.IFrame at 0x7f4c40b03e48>"
      ]
     },
     "execution_count": 7,
     "metadata": {},
     "output_type": "execute_result"
    }
   ],
   "source": [
    "IFrame(src='../../images/fourth_plot.html', width=900, height=700)"
   ]
  },
  {
   "cell_type": "markdown",
   "metadata": {},
   "source": [
    "I wrote initial command and at each step added two extra arguments. That's the advantage of Plotly Express.\n",
    "\n",
    "Now, what if want to see how this chart evolves over time. Simply, we need to see what happened before 2007 and make it more interactive."
   ]
  },
  {
   "cell_type": "code",
   "execution_count": null,
   "metadata": {
    "code_folding": []
   },
   "outputs": [],
   "source": [
    "px.scatter(gapminder, x=\"gdpPercap\", y=\"lifeExp\", color='continent', size='pop', size_max=60, hover_name='country',\n",
    "           animation_frame='year', animation_group='country', log_x = True, range_x = [100, 100000], range_y = [25, 90],\n",
    "           labels={'gdpPercap':'GDP Per Capita', 'lifeExp':'Life Expectancy', 'pop':'Population'})"
   ]
  },
  {
   "cell_type": "code",
   "execution_count": 8,
   "metadata": {},
   "outputs": [
    {
     "data": {
      "text/html": [
       "\n",
       "        <iframe\n",
       "            width=\"900\"\n",
       "            height=\"700\"\n",
       "            src=\"../../images/fifth_plot.html\"\n",
       "            frameborder=\"0\"\n",
       "            allowfullscreen\n",
       "        ></iframe>\n",
       "        "
      ],
      "text/plain": [
       "<IPython.lib.display.IFrame at 0x7f4c40b03e80>"
      ]
     },
     "execution_count": 8,
     "metadata": {},
     "output_type": "execute_result"
    }
   ],
   "source": [
    "IFrame(src='../../images/fifth_plot.html', width=900, height=700)"
   ]
  },
  {
   "cell_type": "markdown",
   "metadata": {},
   "source": [
    "That's not all. Let plot same data on a map."
   ]
  },
  {
   "cell_type": "code",
   "execution_count": null,
   "metadata": {
    "scrolled": false
   },
   "outputs": [],
   "source": [
    "px.choropleth(gapminder, locations='iso_alpha', color='lifeExp', hover_name='country', animation_frame='year',\n",
    "              color_continuous_scale = px.colors.sequential.Plasma, projection='natural earth',\n",
    "           labels={'lifeExp':'Life Expectancy'})"
   ]
  },
  {
   "cell_type": "code",
   "execution_count": 9,
   "metadata": {},
   "outputs": [
    {
     "data": {
      "text/html": [
       "\n",
       "        <iframe\n",
       "            width=\"900\"\n",
       "            height=\"700\"\n",
       "            src=\"../../images/sixth_plot.html\"\n",
       "            frameborder=\"0\"\n",
       "            allowfullscreen\n",
       "        ></iframe>\n",
       "        "
      ],
      "text/plain": [
       "<IPython.lib.display.IFrame at 0x7f4c40b03a20>"
      ]
     },
     "execution_count": 9,
     "metadata": {},
     "output_type": "execute_result"
    }
   ],
   "source": [
    "IFrame(src='../../images/sixth_plot.html', width=900, height=700)"
   ]
  },
  {
   "cell_type": "markdown",
   "metadata": {},
   "source": [
    "That was good, but wait. What if you don't like jupyter?, [trust me there are such guys](https://docs.google.com/presentation/d/1n2RlMdmv1p25Xy5thJUhkKGvjtV-dkAIsUXP-AL4ffI/edit#slide=id.g362da58057_0_1)  \n",
    "\n",
    "That's not a problem. Combine Plotly-Express with Plotly and plot offline to make standalone html file."
   ]
  },
  {
   "cell_type": "code",
   "execution_count": null,
   "metadata": {},
   "outputs": [],
   "source": [
    "import plotly.offline as pyo\n",
    "import plotly_express as px"
   ]
  },
  {
   "cell_type": "code",
   "execution_count": null,
   "metadata": {
    "code_folding": []
   },
   "outputs": [],
   "source": [
    "fig = px.scatter(gapminder, x=\"gdpPercap\", y=\"lifeExp\", color='continent', size='pop', size_max=60, hover_name='country',\n",
    "           animation_frame='year', animation_group='country', log_x = True, range_x = [100, 100000], range_y = [25, 90],\n",
    "           labels={'gdpPercap':'GDP Per Capita', 'lifeExp':'Life Expectancy', 'pop':'Population'})"
   ]
  },
  {
   "cell_type": "code",
   "execution_count": null,
   "metadata": {},
   "outputs": [],
   "source": [
    "# Save figure object as html file\n",
    "\n",
    "pyo.plot(fig, filename='gapminder.html')"
   ]
  },
  {
   "cell_type": "markdown",
   "metadata": {},
   "source": [
    "After glorifying plotly express, it is natural to find some drawbacks. Has plotly express some limitations? Particularly, how much data can we put into it? According to them, there is no hard limit for data set size but it is preferable to use 1000 points for some chart types and make some input parameter adjustments, while other chart types easily handle more points. I'm still trying to figure out the mechanics of plotly express and dig deeper, however, it won't be a bad idea to check more, about plotly express [here](https://medium.com/@plotlygraphs/introducing-plotly-express-808df010143d)."
   ]
  },
  {
   "cell_type": "markdown",
   "metadata": {},
   "source": [
    "### References\n",
    "\n",
    "- [Medium Blog](https://medium.com/@plotlygraphs/introducing-plotly-express-808df010143d)\n",
    "- [Plotly Express](https://plotly.github.io/plotly_express/plotly_express/)\n",
    "- [Example Gallery](https://plotly.github.io/plotly_express/)"
   ]
  }
 ],
 "metadata": {
  "kernelspec": {
   "display_name": "Python 3",
   "language": "python",
   "name": "python3"
  },
  "language_info": {
   "codemirror_mode": {
    "name": "ipython",
    "version": 3
   },
   "file_extension": ".py",
   "mimetype": "text/x-python",
   "name": "python",
   "nbconvert_exporter": "python",
   "pygments_lexer": "ipython3",
   "version": "3.6.7"
  },
  "toc": {
   "base_numbering": 1,
   "nav_menu": {},
   "number_sections": false,
   "sideBar": false,
   "skip_h1_title": false,
   "title_cell": "Table of Contents",
   "title_sidebar": "Contents",
   "toc_cell": false,
   "toc_position": {},
   "toc_section_display": false,
   "toc_window_display": false
  }
 },
 "nbformat": 4,
 "nbformat_minor": 2
}

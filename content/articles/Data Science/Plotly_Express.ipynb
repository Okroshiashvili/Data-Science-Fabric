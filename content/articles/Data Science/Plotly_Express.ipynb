{
  "cells": [
    {
      "cell_type": "markdown",
      "source": [
        "All of these data visualization tools is great in its own niche and describing the pros and cons of each other is the matter of another separate blog. Having in mind that today's world is more interactive and most data viz wizards like \"one line\" solutions(almost true), Plotly made a huge improvement in this direction. Two days ago they introduced [Plotly Express](https://twitter.com/plotlygraphs/status/1108395986626494467) which is a new high-level Python visualization library. Long story short it is the wrapper for [Plotly.py](https://plot.ly/python/) that makes building complex charts simple."
      ],
      "metadata": {},
      "execution_count": null,
      "outputs": []
    },
    {
      "cell_type": "markdown",
      "metadata": {},
      "source": [
        "> Note that, at the moment of writing ```Plotly Express``` was seperately installable. However, now  it's part of ```Plotly``` and can be imported by calling ```import plotly.express as px```. "
      ],
      "execution_count": null,
      "outputs": []
    },
    {
      "cell_type": "markdown",
      "source": [
        "Developers main aim for building plotly express:\n",
        "\n",
        "> Our main goal with Plotly Express was to make it easier to use Plotly.py for exploration and rapid iteration."
      ],
      "metadata": {},
      "execution_count": null,
      "outputs": []
    },
    {
      "cell_type": "markdown",
      "source": [
        "Let's go through some example and see how plotly express works."
      ],
      "metadata": {},
      "execution_count": null,
      "outputs": []
    },
    {
      "cell_type": "code",
      "source": [
        "import plotly.express as px\n",
        "import plotly.offline as pyo\n",
        "from IPython.display import IFrame"
      ],
      "outputs": [],
      "execution_count": 1,
      "metadata": {}
    },
    {
      "cell_type": "code",
      "source": [
        "# Plotly Express has build in datasets. You can load this datasets by uncommenting below.\n",
        "# For expositional purposes, I use well-known gapminder data\n",
        "\n",
        "gapminder = px.data.gapminder()\n",
        "\n",
        "# iris = px.data.iris()\n",
        "\n",
        "# tips = px.data.tips()\n",
        "\n",
        "# election = px.data.election()\n",
        "\n",
        "# wind = px.data.wind()\n",
        "\n",
        "# carshare = px.data.carshare()"
      ],
      "outputs": [],
      "execution_count": 2,
      "metadata": {}
    },
    {
      "cell_type": "code",
      "source": [
        "# Extract data for 2007\n",
        "\n",
        "gapminder2007 = gapminder.query(\"year == 2007\")"
      ],
      "outputs": [],
      "execution_count": 3,
      "metadata": {
        "scrolled": true
      }
    },
    {
      "cell_type": "code",
      "source": [
        "# Simple scatter plot.\n",
        "\n",
        "# GDP Per Capita vs Life Expectancy\n",
        "\n",
        "px.scatter(gapminder2007, x=\"gdpPercap\", y=\"lifeExp\", labels={'gdpPercap':'GDP Per Capita', 'lifeExp':'Life Expectancy'})\n"
      ],
      "outputs": [],
      "execution_count": null,
      "metadata": {}
    },
    {
      "cell_type": "markdown",
      "source": [
        "Pelican produces static html files. So, plotly interactive charts do not show up. Firstly, I converted plotly chart into standalone html file and then added by using IFrame tag. That's why it is here."
      ],
      "metadata": {},
      "execution_count": null,
      "outputs": []
    },
    {
      "cell_type": "code",
      "source": [
        "IFrame(src='../../images/first_plot.html', width=900, height=700)"
      ],
      "outputs": [
        {
          "output_type": "execute_result",
          "data": {
            "text/plain": "<IPython.lib.display.IFrame at 0x7f80e0b40c50>",
            "text/html": "\n        <iframe\n            width=\"900\"\n            height=\"700\"\n            src=\"../../images/first_plot.html\"\n            frameborder=\"0\"\n            allowfullscreen\n        ></iframe>\n        "
          },
          "metadata": {},
          "execution_count": 4
        }
      ],
      "execution_count": 4,
      "metadata": {}
    },
    {
      "cell_type": "markdown",
      "source": [
        "Each point represents country with its own continent. To see continents we can color each dot by continent name."
      ],
      "metadata": {},
      "execution_count": null,
      "outputs": []
    },
    {
      "cell_type": "code",
      "source": [
        "px.scatter(gapminder2007, x=\"gdpPercap\", y=\"lifeExp\", color='continent', \n",
        "                        labels={'gdpPercap':'GDP Per Capita', 'lifeExp':'Life Expectancy'})"
      ],
      "outputs": [],
      "execution_count": null,
      "metadata": {}
    },
    {
      "cell_type": "code",
      "source": [
        "IFrame(src='../../images/second_plot.html', width=900, height=700)"
      ],
      "outputs": [
        {
          "output_type": "execute_result",
          "data": {
            "text/plain": "<IPython.lib.display.IFrame at 0x7f80e0ae5510>",
            "text/html": "\n        <iframe\n            width=\"900\"\n            height=\"700\"\n            src=\"../../images/second_plot.html\"\n            frameborder=\"0\"\n            allowfullscreen\n        ></iframe>\n        "
          },
          "metadata": {},
          "execution_count": 5
        }
      ],
      "execution_count": 5,
      "metadata": {}
    },
    {
      "cell_type": "markdown",
      "source": [
        "And, what if we want to adjust each point size as it to be the country population size? That's should not be a problem."
      ],
      "metadata": {},
      "execution_count": null,
      "outputs": []
    },
    {
      "cell_type": "code",
      "source": [
        "px.scatter(gapminder2007, x=\"gdpPercap\", y=\"lifeExp\", color='continent', \n",
        "                        size='pop', size_max=60, \n",
        "                        labels={'gdpPercap':'GDP Per Capita', 'lifeExp':'Life Expectancy'})"
      ],
      "outputs": [],
      "execution_count": null,
      "metadata": {}
    },
    {
      "cell_type": "code",
      "source": [
        "IFrame(src='../../images/third_plot.html', width=900, height=700)"
      ],
      "outputs": [
        {
          "output_type": "execute_result",
          "data": {
            "text/plain": "<IPython.lib.display.IFrame at 0x7f80e0ae5990>",
            "text/html": "\n        <iframe\n            width=\"900\"\n            height=\"700\"\n            src=\"../../images/third_plot.html\"\n            frameborder=\"0\"\n            allowfullscreen\n        ></iframe>\n        "
          },
          "metadata": {},
          "execution_count": 6
        }
      ],
      "execution_count": 6,
      "metadata": {}
    },
    {
      "cell_type": "markdown",
      "source": [
        "If we put mouse to each data point the point description will appear. It shows continent name, x and y coordinates, and population size. As we already know each point is a country but it's not properly shown in the description. We can achieve this easily."
      ],
      "metadata": {},
      "execution_count": null,
      "outputs": []
    },
    {
      "cell_type": "code",
      "source": [
        "px.scatter(gapminder2007, x=\"gdpPercap\", y=\"lifeExp\", color='continent', \n",
        "                        size='pop', size_max=60, hover_name='country', \n",
        "                        labels={'gdpPercap':'GDP Per Capita', 'lifeExp':'Life Expectancy'})"
      ],
      "outputs": [],
      "execution_count": null,
      "metadata": {}
    },
    {
      "cell_type": "code",
      "source": [
        "IFrame(src='../../images/fourth_plot.html', width=900, height=700)"
      ],
      "outputs": [
        {
          "output_type": "execute_result",
          "data": {
            "text/plain": "<IPython.lib.display.IFrame at 0x7f80e0ae5d50>",
            "text/html": "\n        <iframe\n            width=\"900\"\n            height=\"700\"\n            src=\"../../images/fourth_plot.html\"\n            frameborder=\"0\"\n            allowfullscreen\n        ></iframe>\n        "
          },
          "metadata": {},
          "execution_count": 7
        }
      ],
      "execution_count": 7,
      "metadata": {}
    },
    {
      "cell_type": "markdown",
      "source": [
        "I wrote initial command and at each step added two extra arguments. That's the advantage of Plotly Express.\n",
        "\n",
        "Now, what if want to see how this chart evolves over time. Simply, we need to see what happened before 2007 and make it more interactive."
      ],
      "metadata": {},
      "execution_count": null,
      "outputs": []
    },
    {
      "cell_type": "code",
      "source": [
        "px.scatter(gapminder, x=\"gdpPercap\", y=\"lifeExp\", color='continent', \n",
        "                    size='pop', size_max=60, hover_name='country',\n",
        "                    animation_frame='year', animation_group='country', \n",
        "                    log_x = True, range_x = [100, 100000], range_y = [25, 90],\n",
        "                    labels={'gdpPercap':'GDP Per Capita', 'lifeExp':'Life Expectancy', 'pop':'Population'})"
      ],
      "outputs": [],
      "execution_count": null,
      "metadata": {
        "code_folding": []
      }
    },
    {
      "cell_type": "code",
      "source": [
        "IFrame(src='../../images/fifth_plot.html', width=900, height=700)"
      ],
      "outputs": [
        {
          "output_type": "execute_result",
          "data": {
            "text/plain": "<IPython.lib.display.IFrame at 0x7f80e0aff110>",
            "text/html": "\n        <iframe\n            width=\"900\"\n            height=\"700\"\n            src=\"../../images/fifth_plot.html\"\n            frameborder=\"0\"\n            allowfullscreen\n        ></iframe>\n        "
          },
          "metadata": {},
          "execution_count": 8
        }
      ],
      "execution_count": 8,
      "metadata": {}
    },
    {
      "cell_type": "markdown",
      "source": [
        "That's not all. Let plot same data on a map."
      ],
      "metadata": {},
      "execution_count": null,
      "outputs": []
    },
    {
      "cell_type": "code",
      "source": [
        "px.choropleth(gapminder, locations='iso_alpha', color='lifeExp', hover_name='country', \n",
        "                        animation_frame='year', color_continuous_scale = px.colors.sequential.Plasma, \n",
        "                        projection='natural earth', labels={'lifeExp':'Life Expectancy'})"
      ],
      "outputs": [],
      "execution_count": null,
      "metadata": {
        "scrolled": false
      }
    },
    {
      "cell_type": "code",
      "source": [
        "IFrame(src='../../images/sixth_plot.html', width=900, height=700)"
      ],
      "outputs": [
        {
          "output_type": "execute_result",
          "data": {
            "text/plain": "<IPython.lib.display.IFrame at 0x7f80e0aff510>",
            "text/html": "\n        <iframe\n            width=\"900\"\n            height=\"700\"\n            src=\"../../images/sixth_plot.html\"\n            frameborder=\"0\"\n            allowfullscreen\n        ></iframe>\n        "
          },
          "metadata": {},
          "execution_count": 9
        }
      ],
      "execution_count": 9,
      "metadata": {}
    },
    {
      "cell_type": "markdown",
      "source": [
        "That was good, but wait. What if you don't like jupyter?, [trust me there are such guys](https://docs.google.com/presentation/d/1n2RlMdmv1p25Xy5thJUhkKGvjtV-dkAIsUXP-AL4ffI/edit#slide=id.g362da58057_0_1). That's not a problem. Combine Plotly-Express with Plotly and plot offline to make standalone html file."
      ],
      "metadata": {},
      "execution_count": null,
      "outputs": []
    },
    {
      "cell_type": "code",
      "source": [
        "fig = px.scatter(gapminder, x=\"gdpPercap\", y=\"lifeExp\", color='continent', \n",
        "                    size='pop', size_max=60, hover_name='country', \n",
        "                    animation_frame='year', animation_group='country', \n",
        "                    log_x = True, range_x = [100, 100000], range_y = [25, 90],\n",
        "                    labels={'gdpPercap':'GDP Per Capita', 'lifeExp':'Life Expectancy', 'pop':'Population'})"
      ],
      "outputs": [],
      "execution_count": 12,
      "metadata": {
        "code_folding": []
      }
    },
    {
      "cell_type": "code",
      "source": [
        "# Save figure object as html file\n",
        "\n",
        "pyo.plot(fig, filename='gapminder.html')"
      ],
      "outputs": [
        {
          "output_type": "execute_result",
          "data": {
            "text/plain": "'gapminder.html'"
          },
          "metadata": {},
          "execution_count": 13
        }
      ],
      "execution_count": 13,
      "metadata": {}
    },
    {
      "cell_type": "markdown",
      "source": [
        "After glorifying plotly express, it is natural to find some drawbacks. Has plotly express some limitations? Particularly, how much data can we put into it? According to them, there is no hard limit for data set size but it is preferable to use 1000 points for some chart types and make some input parameter adjustments, while other chart types easily handle more points. I'm still trying to figure out the mechanics of plotly express and dig deeper, however, it won't be a bad idea to check more, about plotly express [here](https://medium.com/@plotlygraphs/introducing-plotly-express-808df010143d)."
      ],
      "metadata": {},
      "execution_count": null,
      "outputs": []
    },
    {
      "cell_type": "markdown",
      "source": [
        "### References\n",
        "\n",
        "- [Medium Blog](https://medium.com/@plotlygraphs/introducing-plotly-express-808df010143d)\n",
        "- [Plotly Express](https://plotly.github.io/plotly_express/plotly_express/)\n",
        "- [Example Gallery](https://plotly.github.io/plotly_express/)"
      ],
      "metadata": {},
      "execution_count": null,
      "outputs": []
    }
  ],
  "metadata": {
    "kernelspec": {
      "name": "python37564bitblogconda8538fd3e22764151b07e93c19acbdfe4",
      "language": "python",
      "display_name": "Python 3.7.5 64-bit ('blog': conda)"
    },
    "language_info": {
      "name": "python",
      "version": "3.7.5-final",
      "mimetype": "text/x-python",
      "codemirror_mode": {
        "name": "ipython",
        "version": 3
      },
      "pygments_lexer": "ipython3",
      "nbconvert_exporter": "python",
      "file_extension": ".py"
    },
    "toc": {
      "toc_position": {},
      "skip_h1_title": false,
      "number_sections": false,
      "title_cell": "Table of Contents",
      "toc_window_display": false,
      "base_numbering": 1,
      "toc_section_display": false,
      "title_sidebar": "Contents",
      "toc_cell": false,
      "nav_menu": {},
      "sideBar": false
    },
    "kernel_info": {
      "name": "python3"
    },
    "nteract": {
      "version": "0.15.0"
    }
  },
  "nbformat": 4,
  "nbformat_minor": 2
}
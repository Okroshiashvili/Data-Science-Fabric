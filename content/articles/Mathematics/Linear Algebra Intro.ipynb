{
 "cells": [
  {
   "cell_type": "markdown",
   "metadata": {},
   "source": [
    "These are the series of linear algebra mainly based on *Numpy* and *Scipy*. The series will follow the sequence:\n",
    "1. **Introduction**\n",
    "2. Basics of linear algebra\n",
    "3. Intermediate linear algebra\n",
    "4. Advances in linear algebra\n",
    "5. Concluding remarks"
   ]
  },
  {
   "cell_type": "markdown",
   "metadata": {},
   "source": [
    " "
   ]
  },
  {
   "cell_type": "markdown",
   "metadata": {},
   "source": [
    "Linear algebra is one of the building block of data science among others. Its importance is huge, as all supervised, unsupervised and semi-supervised algorithms use it with some degree. One great example is Google's famous [Page Rank](https://en.wikipedia.org/wiki/PageRank) algorithm, which heavily relies on it. And that is not all. We can find as many usage cases of linear algebra as many individuals exist in the data science field.\n",
    "\n",
    "The purpose of this blog series is to introduce you the ways how to use linear algebra in data science. More precisely, by this series, I intend to help aspiring data scientist to refresh their linear algebra knowledge with Python and gain some hands-on experience. Moreover, this may serve you as a starting point to dig deeper into an amazing world of linear algebra with Python."
   ]
  },
  {
   "cell_type": "markdown",
   "metadata": {},
   "source": [
    "Let start by defining what is linear algebra\n",
    "\n",
    "> <div class=\"alert alert-block alert-info\">\n",
    "&nbsp;&nbsp;&nbsp;&nbsp;Linear algebra is a branch of mathematics that is concerned with mathematical structures, closed under addition and scalar multiplication operations and that includes the theory of systems of linear equations, matrices, determinants, vector spaces, and linear transformations.\n",
    "</div>"
   ]
  },
  {
   "cell_type": "markdown",
   "metadata": {},
   "source": [
    "Let's start explaining word by word the definition of linear algebra. Loosely speaking, [mathematical structure](https://en.wikipedia.org/wiki/Mathematical_structure) is a set, together with a family of operations and relations defined on that set. Now divide \"Closed under addition and scalar multiplication\" into two parts. First is \"closed under addition\" which means that a set is \"closed under addition\" if the sum of any two members of this set belongs to this set again. For example, imagine the set of even integers. Then, take any to integer and add them up. The result is an even integer belonging to the initial set. Here is a mathematical definition.\n",
    "\n",
    "\\begin{align*}\n",
    "A=\\{x \\in \\mathbb{Z}~\\vert~mod~2 =0\\}\n",
    "\\end{align*}\n",
    "\n",
    "Second is \"closed under scalar multiplication\". This means that the product of any member of the set and any scalar $\\alpha$ such that $\\alpha~\\in \\mathbb{R}$ is also in the set. The above-mentioned set is also closed under scalar multiplication. Generally, the sets $\\mathbb{N}, ~ \\mathbb{Z}, ~ \\mathbb{Q}$ and $\\mathbb{R}$ are closed under both addition and multiplication.\n",
    "\n",
    "\n",
    "The set \n",
    "\\begin{align*}\n",
    "A = (0,1)\n",
    "\\end{align*}\n",
    "\n",
    "is closed under multiplication, but not addition. $(0.6 + 0.7 = 1.3 > 1)$\n",
    "\n",
    "The set of all half integers \n",
    "\n",
    "\\begin{align*}\n",
    "\\frac{\\mathbb{Z}}{2}=\\{x : \\exists~{y}~\\in~\\mathbb{Z}~(x = \\frac{y}{2})\\}\n",
    "\\end{align*}\n",
    "\n",
    "is closed under addition, but not under multiplication. $(0.5 * 0.5 = 0.25~\\notin~\\frac{\\mathbb{Z}}{2})$\n",
    "\n",
    "\n",
    "The system of linear equations is a collection of two or more linear equations involving the same set of variables. The example is the following:\n",
    "\n",
    "\n",
    "\\begin{align*}\n",
    "3x + 2y - z = 1 \\\\\\\n",
    "2x - 2y + 4z = -2 \\\\\\\n",
    "-x + \\frac{1}{2}y - z = 0\n",
    "\\end{align*}\n",
    "\n",
    "\n",
    "[Matrix](https://en.wikipedia.org/wiki/Matrix_(mathematics)) is just a rectangular array of numbers, symbols, or expressions, arranged in rows and columns. There is no plain English definition of the determinant, but forthcoming blogs in this series will cover it in detail. Vector space is a set of objects (vectors) closed under finite vector addition and scalar multiplication.\n",
    "\n",
    "Linear transformation or linear map is a mapping between two vector spaces that preserves the addition and scalar multiplication rule. More mathematically, a linear transformation between two vector space $V$ and $W$ is a map $T : V~\\rightarrow~W$ such that the following hold:\n",
    "* $T(v_1 + v_2) = T(v_1) + T(v_2)$  for any vectors $v_1$ and $v_2$ in $V$\n",
    "\n",
    "\n",
    "* $T(\\alpha v_1) = \\alpha T(v_1)$  for any scalar $\\alpha$"
   ]
  },
  {
   "cell_type": "markdown",
   "metadata": {},
   "source": [
    "### Conclusion"
   ]
  },
  {
   "cell_type": "markdown",
   "metadata": {},
   "source": [
    "To sum up,  this post is an introduction towards linear algebra series, where I will introduce you linear algebra concepts intuitively and programmatically in Python. The main idea of this series is to feel comfortable in the field and to give you the direction where to dig deeper."
   ]
  }
 ],
 "metadata": {
  "kernelspec": {
   "display_name": "Python 3",
   "language": "python",
   "name": "python3"
  },
  "language_info": {
   "codemirror_mode": {
    "name": "ipython",
    "version": 3
   },
   "file_extension": ".py",
   "mimetype": "text/x-python",
   "name": "python",
   "nbconvert_exporter": "python",
   "pygments_lexer": "ipython3",
   "version": "3.6.7"
  },
  "toc": {
   "base_numbering": 1,
   "nav_menu": {},
   "number_sections": false,
   "sideBar": true,
   "skip_h1_title": false,
   "title_cell": "Table of Contents",
   "title_sidebar": "Contents",
   "toc_cell": false,
   "toc_position": {
    "height": "calc(100% - 180px)",
    "left": "10px",
    "top": "150px",
    "width": "165px"
   },
   "toc_section_display": true,
   "toc_window_display": true
  },
  "varInspector": {
   "cols": {
    "lenName": 16,
    "lenType": 16,
    "lenVar": 40
   },
   "kernels_config": {
    "python": {
     "delete_cmd_postfix": "",
     "delete_cmd_prefix": "del ",
     "library": "var_list.py",
     "varRefreshCmd": "print(var_dic_list())"
    },
    "r": {
     "delete_cmd_postfix": ") ",
     "delete_cmd_prefix": "rm(",
     "library": "var_list.r",
     "varRefreshCmd": "cat(var_dic_list()) "
    }
   },
   "oldHeight": 442,
   "position": {
    "height": "464px",
    "left": "894px",
    "right": "20px",
    "top": "14px",
    "width": "363px"
   },
   "types_to_exclude": [
    "module",
    "function",
    "builtin_function_or_method",
    "instance",
    "_Feature"
   ],
   "varInspector_section_display": "block",
   "window_display": false
  }
 },
 "nbformat": 4,
 "nbformat_minor": 2
}

{
 "cells": [
  {
   "cell_type": "markdown",
   "metadata": {},
   "source": [
    "This is the second post in blog series about linear algebra. \n",
    "\n",
    "1. Introduction\n",
    "2. **Basics of linear algebra**\n",
    "3. Intermediate linear algebra\n",
    "4. Advances in linear algebra\n",
    "\n",
    "Fisrt post is [here](აქ ჩასვი ლინკი მერე)"
   ]
  },
  {
   "cell_type": "markdown",
   "metadata": {},
   "source": [
    "In this post I will introduce you to the basics of linear algebra, which in turn includes the following:\n",
    "* [One Variable Equation](#One_Variable_Equation)\n",
    "* [Two Variable Equation](#Two_Variable_Equation)\n",
    "* [The Systems of Equations](#The_Systems_Of_Equations)\n",
    "* [Vector](#Vector)\n",
    "    * [Vectors and Vector Notation](#Vectors_And_Vector_Notation)\n",
    "    * [Dimensions of Vector](#Dimensions_Of_Vector)\n",
    "    * [Operations on Vectors](#Operations_On_Vectors)\n",
    "    * [Vector Length](#Vector_Length)\n",
    "    * [Unit Vector](#Unit_Vector)\n",
    "    * [Scalar Product of Two Vectors](#Scalar_Product_Of_Two_Vectors)\n",
    "    * [Numerical Representation](#Numerical_Representation)\n",
    "* [Matrix](#Matrix)\n",
    "    * [Matrices and Matrix Notation](#Matrices_And_Matrix_Notation)\n",
    "    * [Dimension of Matrix](#Dimension_Of_Matrix)\n",
    "    * [Matrix Operations](#Matrix_Operations)\n",
    "    * [Matrix Transpose](#Matrix_Transpose)\n",
    "    * [Identity Matrix](#Identity_Matrix)\n",
    "    * [Numerical Representation](#Numerical_Representation_Matrix)\n",
    "* [Conclusion](#Conclusion)"
   ]
  },
  {
   "cell_type": "markdown",
   "metadata": {},
   "source": [
    "## One Variable Equation\n",
    "<a id=\"One_Variable_Equation\"></a>"
   ]
  },
  {
   "cell_type": "markdown",
   "metadata": {},
   "source": [
    "Generally, equations state that two things are equal. They contain one or more variables and solving them means to find the value of those variable to make equality true. This value is known as a solution. \n",
    "\n",
    "\n",
    "Consider the following equation:\n",
    "\n",
    "\\begin{align*}\n",
    "2x + 5 = 15\n",
    "\\end{align*}\n",
    "\n",
    "In this case, our variable is $x$ and the solution is $10$."
   ]
  },
  {
   "cell_type": "code",
   "execution_count": null,
   "metadata": {},
   "outputs": [],
   "source": [
    "x = 5\n",
    "2*x + 5 == 15"
   ]
  },
  {
   "cell_type": "markdown",
   "metadata": {},
   "source": [
    "## Two Variable Equation\n",
    "<a id=\"Two_Variable_Equation\"></a>"
   ]
  },
  {
   "cell_type": "markdown",
   "metadata": {},
   "source": [
    "Equations with two variables are known as linear equations.\n",
    "\n",
    "Consider the following equation:\n",
    "\n",
    "\\begin{align*}\n",
    "2y + 3 = 2x - 1\n",
    "\\end{align*}\n",
    "\n",
    "This equation includes two different variables, $x$, and $y$. These variables depend on one another. The value of $x$ is determined in part by the value of $y$ and vice-versa. So we can't solve this equation as in the case of one variable equation. However, we can express $y$ in terms of $x$ and obtain a result that describes a relative relationship between the variables.\n",
    "\n",
    "For example, let's solve this equation for $y$. First, rearrage equation in a way to have following:\n",
    "\n",
    "\\begin{align*}2y = 2x - 4\n",
    "\\Rightarrow \\\\\n",
    "\\Rightarrow\n",
    "y = x - 2\n",
    "\\end{align*}\n",
    "\n",
    "\n",
    "*Note that this is not linear function, this is an [affine function](https://math.stackexchange.com/questions/275310/what-is-the-difference-between-linear-and-affine-function)*."
   ]
  },
  {
   "cell_type": "markdown",
   "metadata": {},
   "source": [
    "Below we will see the solution of the above equation for various values of $y$. It's also good practice to plot the graph to visualize the solutions."
   ]
  },
  {
   "cell_type": "code",
   "execution_count": null,
   "metadata": {},
   "outputs": [],
   "source": [
    "import pandas as pd\n",
    "\n",
    "# Create a dataframe with a column x, containing values from -10 to 10\n",
    "df = pd.DataFrame({'x': range(-10, 11)})\n",
    "\n",
    "# Add column y, by applying the solved equation to x\n",
    "df['y'] = df['x'] - 2\n",
    "\n",
    "# Display the dataframe\n",
    "#df"
   ]
  },
  {
   "cell_type": "markdown",
   "metadata": {},
   "source": [
    "Above table shows valid solutions for values of $x$ in range $(-10, 10)$. Besides numerical solution, let see the graphical solution."
   ]
  },
  {
   "cell_type": "code",
   "execution_count": null,
   "metadata": {},
   "outputs": [],
   "source": [
    "from matplotlib import pyplot as plt\n",
    "%matplotlib inline\n",
    "\n",
    "plt.figure(num=None, figsize=(8, 6), dpi=80, facecolor='w', edgecolor='k')\n",
    "\n",
    "plt.plot(df['x'], df['y'])\n",
    "plt.xlabel('x')\n",
    "plt.ylabel('y')\n",
    "plt.grid()\n",
    "plt.axhline(color='black')\n",
    "plt.axvline(color='black')\n",
    "plt.show()"
   ]
  },
  {
   "cell_type": "markdown",
   "metadata": {},
   "source": [
    "The solution of the above equation lies on the blue line, for any value pairs $(x,y)~\\in~\\mathbb{R}$\n",
    "\n",
    "When we use a linear equation to plot a line, we can easily see where the line intersects the X and Y axes of the plot. These points are known as *intercepts*. The *x-intercept* is where the line intersects the X (horizontal) axis, and the *y-intercept* is where the line intersects the Y (horizontal) axis.\n",
    "\n",
    "\n",
    "The x-intercept is the point where the line crosses the $X$ axis, and at this point, the value for $y$ is always 0. Similarly, the y-intercept is where the line crosses the $Y$ axis, at which $x$ value is 0. So to find the intercepts, we need to solve the equation for $x$ when $y$ is 0 and for $y$ when $x$ is 0.\n",
    "\n",
    "For the x-intercept, we have:\n",
    "\n",
    "\\begin{align*}\n",
    "y = x - 2 = 0\n",
    "\\Rightarrow\n",
    "x = 2\n",
    "\\end{align*}\n",
    "\n",
    "For y-intercept, we have:\n",
    "\n",
    "\\begin{align*}\n",
    "y = x - 2\n",
    "\\Rightarrow\n",
    "y = 0 - 2\n",
    "\\Rightarrow\n",
    "y = -2\n",
    "\\end{align*}"
   ]
  },
  {
   "cell_type": "code",
   "execution_count": null,
   "metadata": {},
   "outputs": [],
   "source": [
    "from matplotlib import pyplot as plt\n",
    "%matplotlib inline\n",
    "\n",
    "plt.figure(num=None, figsize=(8, 6), dpi=80, facecolor='w', edgecolor='k')\n",
    "\n",
    "plt.plot(df['x'], df['y'])\n",
    "plt.xlabel('x')\n",
    "plt.ylabel('y')\n",
    "plt.grid()\n",
    "plt.axhline(color='black')\n",
    "plt.axvline(color='black')\n",
    "plt.annotate('x-intercept',(2, 0), color='red', fontsize=12)\n",
    "plt.annotate('y-intercept',(0,-2), color='red', fontsize=12)\n",
    "plt.show()"
   ]
  },
  {
   "cell_type": "markdown",
   "metadata": {},
   "source": [
    "It is natural to ask, what if we move one unit along the $x$ axis, how the value for the $y$ change? The answer to this question is the notion of *slope*. Slope is defined as\n",
    "\n",
    "\\begin{align*}\n",
    "m = \\frac{y_{2} - y_{1}}{x_{2} - x_{1}}\n",
    "\\end{align*}\n",
    "\n",
    "This means that for any given two ordered pairs of $x$ and $y$, how a change in $x$ affect $y$.\n",
    "For example:\n",
    "* (5, 3)\n",
    "* (6, 4)\n",
    "\n",
    "So, according to our formula, slope equal to:\n",
    "\n",
    "\\begin{align*}\n",
    "m = \\frac{4 - 3}{6 - 5} = 1\n",
    "\\end{align*}\n",
    "\n",
    "\n",
    "So what does that actually mean? Well, if we start from any point on the blue line and move one unit to the right (along with the $X$ axis), we'll need to move 1 unit up (along with the $Y$ axis) to get back to the blue line."
   ]
  },
  {
   "cell_type": "markdown",
   "metadata": {},
   "source": [
    "## The Systems of Equations\n",
    "<a id=\"The_Systems_Of_Equations\"></a>"
   ]
  },
  {
   "cell_type": "markdown",
   "metadata": {},
   "source": [
    "To have the system of equations means that we have two or more linear equations together and we have to solve them simultaneously to make the equality true. There are three possible solutions of the linear system. One solution, No solution or system is inconsistent and infinitely many solutions. Generally, the linear system can have two or more variables and two or more equations. There, I will consider two variable and two-equation system with three solutions, in order to depict the intuition. It's up to you to delve deeper.\n",
    "\n",
    "* The system with one solution, meaning two lines intersect\n",
    "\n",
    "\\begin{align*}\n",
    "2x-y = 2 \\\\ \n",
    "x+y = -2\n",
    "\\end{align*}\n",
    "\n",
    "If we divide these equations we'll get $x=-2$ and $y=0$. This is the solution. Now let see it graphically."
   ]
  },
  {
   "cell_type": "code",
   "execution_count": null,
   "metadata": {},
   "outputs": [],
   "source": [
    "import pandas as pd\n",
    "\n",
    "\n",
    "df_1 = pd.DataFrame({'x': range(-10, 11)})\n",
    "\n",
    "# Add column y, by applying the solved equation to x\n",
    "df_1['y'] = 2*df_1['x'] - 2\n",
    "\n",
    "\n",
    "\n",
    "df_2 = pd.DataFrame({'x':range(-10,11)})\n",
    "\n",
    "df_2['y'] = -1*df_2['x'] - 2\n",
    "\n",
    "\n",
    "plt.figure(num=None, figsize=(8, 6), dpi=80, facecolor='w', edgecolor='k')\n",
    "plt.plot(df_1['x'], df_1['y'])\n",
    "plt.plot(df_2['x'], df_2['y'])\n",
    "plt.xlabel('x')\n",
    "plt.ylabel('y')\n",
    "plt.grid()\n",
    "plt.axhline(color='black')\n",
    "plt.axvline(color='black')\n",
    "plt.annotate('2x - y = 2', (7.5,18),weight = 'bold')\n",
    "plt.annotate('x + y = -2', (-10,10),weight = 'bold')\n",
    "\n",
    "plt.annotate('Solution (x = -2;y = 0)',(0, -3)) # I put coordinates(0,-3) intentionally to make annotation look clear\n",
    "\n",
    "plt.show()\n"
   ]
  },
  {
   "cell_type": "markdown",
   "metadata": {},
   "source": [
    "* The system with no solution or inconsistent system, meaning two lines are parallel\n",
    "\n",
    "\\begin{align*}\n",
    "3x+2y = 3 \\\\ \n",
    "3x+2y = -4\n",
    "\\end{align*}\n",
    "\n",
    "The system is inconsistent. There is no solution."
   ]
  },
  {
   "cell_type": "code",
   "execution_count": null,
   "metadata": {},
   "outputs": [],
   "source": [
    "import pandas as pd\n",
    "\n",
    "# Dataframe for first equation\n",
    "df_1 = pd.DataFrame({'x': range(-10, 11)})\n",
    "df_1['y'] = (-3/2)*df_1['x'] + 3/2\n",
    "\n",
    "\n",
    "# Dataframe for second equation\n",
    "df_2 = pd.DataFrame({'x':range(-10,11)})\n",
    "df_2['y'] = (-3/2)*df_2['x'] - 2\n",
    "\n",
    "\n",
    "plt.figure(num=None, figsize=(8, 6), dpi=80, facecolor='w', edgecolor='k')\n",
    "plt.plot(df_1['x'], df_1['y'])\n",
    "plt.plot(df_2['x'], df_2['y'])\n",
    "plt.xlabel('x')\n",
    "plt.ylabel('y')\n",
    "plt.grid()\n",
    "plt.axhline(color='black')\n",
    "plt.axvline(color='black')\n",
    "plt.annotate('3x + 2y = 3', (-5,10),weight = 'bold')\n",
    "plt.annotate('3x + 2y = -4', (-10,7.5),weight = 'bold')\n",
    "plt.show()"
   ]
  },
  {
   "cell_type": "markdown",
   "metadata": {},
   "source": [
    "* The system with infinitely many solutions, meaning two lines coincide\n",
    "\n",
    "\\begin{align*}\n",
    "x-y = -3 \\\\ \n",
    "2x-2y = -6\n",
    "\\end{align*}\n",
    "\n",
    "The system has infinitely many solutions, as one of them is a linear combination of another. In this case, the second equation is scaled by 2 version of the first equation."
   ]
  },
  {
   "cell_type": "code",
   "execution_count": null,
   "metadata": {},
   "outputs": [],
   "source": [
    "import pandas as pd\n",
    "\n",
    "# Dataframe for first equation\n",
    "df_1 = pd.DataFrame({'x': range(-10, 11)})\n",
    "df_1['y'] = df_1['x'] - 3\n",
    "\n",
    "\n",
    "# Dataframe for second equation\n",
    "df_2 = pd.DataFrame({'x':range(-5,6)})\n",
    "df_2['y'] = df_2['x'] - 3\n",
    "\n",
    "\n",
    "plt.figure(num=None, figsize=(8, 6), dpi=80, facecolor='w', edgecolor='k')\n",
    "plt.plot(df_1['x'], df_1['y'])\n",
    "plt.plot(df_2['x'], df_2['y'])\n",
    "plt.xlabel('x')\n",
    "plt.ylabel('y')\n",
    "plt.grid()\n",
    "plt.axhline(color='black')\n",
    "plt.axvline(color='black')\n",
    "plt.annotate('2x - 2y = -6', (5,5),weight = 'bold')\n",
    "plt.annotate('x - y = -3', (-5,-5),weight = 'bold')\n",
    "plt.show()"
   ]
  },
  {
   "cell_type": "markdown",
   "metadata": {},
   "source": [
    "## Vectors\n",
    "<a id=\"Vector\"></a>"
   ]
  },
  {
   "cell_type": "markdown",
   "metadata": {},
   "source": [
    "### Vectors and Vector Notation\n",
    "<a id=\"Vectors_And_Vector_Notation\"></a>\n",
    "***\n",
    "\n",
    "In plain English, the vector is a directed arrow. Mathematically, the vector is an object that has magnitude and direction. Magnitude is the length of the vector and direction is from its tail to its end. In other words, imagine vector as the line which connects two points in the Cartesian Coordinate System. A vector of length $n$ is a sequence or array of $n$ numbers, which we can write as:\n",
    "\n",
    "\\begin{align*}\n",
    "\\vec{X} = (x_1, x_2, x_3...x_n)\n",
    "\\end{align*}\n",
    "\n",
    "or\n",
    "\n",
    "\\begin{align*}\n",
    "\\vec{X} = [x_1, x_2, x_3, ... x_n]\n",
    "\\end{align*}\n",
    "\n",
    "Horizontally represented vector is a row vector, while vertically represented vector is a column vector. Let see how they look graphically."
   ]
  },
  {
   "cell_type": "code",
   "execution_count": null,
   "metadata": {},
   "outputs": [],
   "source": [
    "import matplotlib.pyplot as plt\n",
    "\n",
    "fig, ax = plt.subplots(figsize=(10, 8))\n",
    "# Set the axes through the origin\n",
    "for spine in ['left', 'bottom']:\n",
    "    ax.spines[spine].set_position('zero')\n",
    "for spine in ['right', 'top']:\n",
    "    ax.spines[spine].set_color('none')\n",
    "\n",
    "ax.set(xlim=(-6, 6), ylim=(-6, 6))\n",
    "ax.grid()\n",
    "\n",
    "vecs = ((2, 4), (-3, 3))   # These are vectors\n",
    "\n",
    "for v in vecs:\n",
    "    ax.annotate('', xy=v, xytext=(0, 0),\n",
    "                arrowprops=dict(facecolor='blue',\n",
    "                shrink=0,\n",
    "                alpha=0.7,\n",
    "                width=0.5))\n",
    "    ax.text(1.1 * v[0], 1.1 * v[1], str(v))\n",
    "plt.show()"
   ]
  },
  {
   "cell_type": "markdown",
   "metadata": {},
   "source": [
    "### Dimensions of Vector\n",
    "<a id=\"Dimensions_Of_Vector\"></a>\n",
    "***\n",
    "\n",
    "The dimension of vector is the number of elements in it. For example, the above vector is row vector with dimension $1\\times n$, but if we take it as a column vector its dimension will be $n\\times 1$.\n",
    "\n",
    "\\begin{align*}\n",
    "\\vec{X} = [x_1,x_2,...x_n]_{1\\times~n}\n",
    "\\end{align*}\n",
    "\n",
    "and\n",
    "\n",
    "\\begin{align*}\n",
    "\\vec{X} =\n",
    "\\begin{bmatrix}\n",
    "x_1 \\\\\n",
    "x_2 \\\\\n",
    "\\vdots \\\\\n",
    "x_n\n",
    "\\end{bmatrix}_{n\\times1}\n",
    "\\end{align*}"
   ]
  },
  {
   "cell_type": "markdown",
   "metadata": {},
   "source": [
    "### Operations on Vectors\n",
    "<a id=\"Operations_On_Vectors\"></a>\n",
    "***\n",
    "\n",
    "The most common operations on vectors are vector addition/subtraction and scalar multiplication.\n",
    "\n",
    "If we have two vectors, $\\vec{X}$ and $\\vec{Y}$, we can add them up in the following way:\n",
    "\n",
    "\\begin{align*}\n",
    "\\vec{X} + \\vec{Y} =\n",
    "\\begin{bmatrix}\n",
    "    x_1 \\\\\n",
    "    x_2 \\\\\n",
    "    \\vdots \\\\\n",
    "    x_n\n",
    "\\end{bmatrix}_{n\\times1} +\n",
    "\\begin{bmatrix}\n",
    "     y_1 \\\\\n",
    "     y_2 \\\\\n",
    "    \\vdots \\\\\n",
    "     y_n\n",
    "\\end{bmatrix}_{n\\times1} =\n",
    "\\begin{bmatrix}\n",
    "    x_1 + y_1 \\\\\n",
    "    x_2 + y_2 \\\\\n",
    "    \\vdots \\\\\n",
    "    x_n + y_n\n",
    "\\end{bmatrix}_{n\\times1}\n",
    "\\end{align*}\n",
    "\n",
    "Multiplying vector by a scalar $\\alpha$, gives\n",
    "\n",
    "\\begin{align*}\n",
    "\\alpha \\vec{X} = \n",
    "\\begin{bmatrix}\n",
    "\\alpha x_1 \\\\\n",
    "\\alpha x_2 \\\\\n",
    "\\vdots \\\\\n",
    "\\alpha x_n\n",
    "\\end{bmatrix}_{n\\times1}\n",
    "\\end{align*}\n",
    "\n",
    "For example:\n",
    "\n",
    "\\begin{align*}\n",
    "\\vec{X} + \\vec{Y} =\n",
    "\\begin{bmatrix}\n",
    "    1 \\\\\n",
    "    2 \\\\\n",
    "    \\vdots \\\\\n",
    "    100\n",
    "\\end{bmatrix} +\n",
    "\\begin{bmatrix}\n",
    "     3 \\\\\n",
    "     4 \\\\\n",
    "    \\vdots \\\\\n",
    "     400\n",
    "\\end{bmatrix} =\n",
    "\\begin{bmatrix}\n",
    "    1 + 3 \\\\\n",
    "    2 + 4 \\\\\n",
    "    \\vdots \\\\\n",
    "    100 + 400\n",
    "\\end{bmatrix}\n",
    "\\end{align*}\n",
    "\n",
    "For scalar multiplication, if we have vector $X$ and scalar $\\alpha = 5$ then alpha times $X$ is:\n",
    "\n",
    "\\begin{align*}\n",
    "5 * \\vec{X} = \n",
    "\\begin{bmatrix}\n",
    "5 * 1 \\\\\n",
    "5 * 2 \\\\\n",
    "\\vdots \\\\\n",
    "5 * 100\n",
    "\\end{bmatrix}\n",
    "\\end{align*}"
   ]
  },
  {
   "cell_type": "markdown",
   "metadata": {},
   "source": [
    "### Vector Length\n",
    "<a id=\"Vector_Length\"></a>\n",
    "***\n",
    "\n",
    "The vector length or magnitude is calculated by the following formula:\n",
    "\n",
    "\\begin{align*}\n",
    "\\|\\vec{X}\\| = \\sqrt{x_1^2 + x_2^2 + x_3^2 + ... + x_n^2} = \\sqrt{\\sum_{i=1}^n x_i^2}\n",
    "\\end{align*}\n",
    "\n",
    "We can link notion of vector length to the Euclidean distance. If our vector $\\vec{X}$ has tail at origin, $\\vec{0} = [0_1, 0_2, 0_3, ... , 0_n]$ and point at $\\vec{X} = [x_1,x_2,...x_n]$, then Euclidean distance between tail and point is the length of $\\vec{X}$ by the formula:\n",
    "\n",
    "\\begin{align*}\n",
    "d(\\vec{0},\\vec{X}) = \\sqrt{(0_1 - x_1)^2 + (0_2 - x_2)^2 + ... + (0_n - x_n)^2} = \\sqrt{\\sum_{i=1}^n (0_i - x_i)^2}\n",
    "\\end{align*}\n",
    "\n",
    "For example, we have vector $X$\n",
    "\n",
    "\\begin{align*}\n",
    "\\vec{X} = \n",
    "\\begin{bmatrix}\n",
    "1 \\\\\n",
    "2 \\\\\n",
    "3\n",
    "\\end{bmatrix}\n",
    "\\end{align*}\n",
    "\n",
    "then its length is\n",
    "\n",
    "\\begin{align*}\n",
    "\\|\\vec{X}\\| = \\sqrt{1^2 + 2^2 + 3^2} = \\sqrt{14}\n",
    "\\end{align*}"
   ]
  },
  {
   "cell_type": "markdown",
   "metadata": {},
   "source": [
    "### Unit Vector\n",
    "<a id=\"Unit_Vector\"></a>\n",
    "***\n",
    "\n",
    "What if the length of a vector equal to 1? This kind of vector is known as unit vector and it plays a very important role in different calculations and formulae. We'll see it in later posts, but here unit vector is defined as \n",
    "\n",
    "\\begin{align*}\n",
    "\\hat{X} = \\frac{X}{\\|X\\|}\n",
    "\\end{align*}\n",
    "\n",
    "where $\\hat{X}$ is a unit vector, the numerator is vector $\\vec{X}$ and denominator is the norm of vector $\\vec{X}$.\n",
    "\n",
    "We can use vector $X$ from above example. We already calculated it length which is $\\|\\vec{X}\\| = \\sqrt{14}$. So, we can construct unit vector $\\hat{X}$ in the following way:\n",
    "\n",
    "\\begin{align*}\n",
    "\\hat{X} = \\frac{X}{\\|X\\|} =\n",
    "\\frac{1}{\\sqrt{14}}; \\frac{2}{\\sqrt{14}}; \\frac{3}{\\sqrt{14}}\n",
    "\\Rightarrow\n",
    "[0.26726124; \\ 0.53452248; \\ 0.80178373]\n",
    "\\end{align*}"
   ]
  },
  {
   "cell_type": "markdown",
   "metadata": {},
   "source": [
    "### Scalar Product of Two Vectors\n",
    "<a id=\"Scalar_Product_Of_Two_Vectors\"></a>\n",
    "***\n",
    "\n",
    "Multiplication of two vectors is known as dot product, scalar product, or inner product and is defined by: \n",
    "\n",
    "\\begin{align*}\n",
    "\\langle\\, \\vec{X},\\vec{Y}\\rangle~=~\\vec{X}\\cdot\\vec{Y}~=~x_1\\times y_1 + x_2\\times y_2 + ... + x_n\\times y_n~=~\\sum_{i=1}^n x_i\\cdot y_i\n",
    "\\end{align*}\n",
    "\n",
    "*The inner product is defined only when the dimensions of two vectors coincide.*\n",
    "\n",
    "Another formula of inner product is:\n",
    "\n",
    "\\begin{align*}\n",
    "\\vec{X}\\cdot\\vec{Y}~=~\\|\\vec{X}\\|\\cdot\\|\\vec{Y}\\|\\cdot\\cos{\\theta}\n",
    "\\end{align*}\n",
    "\n",
    "where $\\cos{\\theta}$ is an angle between the vectors $\\vec{X}$ and $\\vec{Y}$."
   ]
  },
  {
   "cell_type": "markdown",
   "metadata": {},
   "source": [
    "### Numerical Representation\n",
    "<a id=\"Numerical_Representation\"></a>"
   ]
  },
  {
   "cell_type": "code",
   "execution_count": null,
   "metadata": {},
   "outputs": [],
   "source": [
    "import numpy as np\n",
    "\n",
    "# It's more convenient to represent the vector as a Numpy ndarray, rather than Python tuple.\n",
    "\n",
    "X = np.array([1,2,3])\n",
    "Y = np.array((2,4,6))\n",
    "\n",
    "print('X is:', type(X))\n",
    "print('The dimension of X is:', X.shape)"
   ]
  },
  {
   "cell_type": "code",
   "execution_count": null,
   "metadata": {},
   "outputs": [],
   "source": [
    "# Add two vectors\n",
    "\n",
    "print(X + Y)"
   ]
  },
  {
   "cell_type": "code",
   "execution_count": null,
   "metadata": {},
   "outputs": [],
   "source": [
    "# I use two dimensional vectors to show graphically the vector addition\n",
    "\n",
    "v = np.array((2, 1))\n",
    "w = np.array((-3,2))\n",
    "\n",
    "V = np.array([w,v,v+w])\n",
    "\n",
    "origin = [0], [0]\n",
    "plt.axis('equal')\n",
    "plt.axhline(color='black')\n",
    "plt.axvline(color='black')\n",
    "plt.grid()\n",
    "plt.ticklabel_format(style='sci', axis='both', scilimits=(0,0))\n",
    "plt.quiver(*origin, V[:,0], V[:,1], color=['r', 'b', 'g'], scale=10)\n",
    "plt.show()"
   ]
  },
  {
   "cell_type": "markdown",
   "metadata": {},
   "source": [
    "Red is vector $\\vec{V}$, blue is $\\vec{W}$ and green is the sum of these two vectors"
   ]
  },
  {
   "cell_type": "markdown",
   "metadata": {},
   "source": [
    "#### Scalar Multiplication"
   ]
  },
  {
   "cell_type": "code",
   "execution_count": null,
   "metadata": {},
   "outputs": [],
   "source": [
    "\n",
    "import numpy as np\n",
    "\n",
    "X = np.array([1,2,3])\n",
    "\n",
    "print(5 * X)"
   ]
  },
  {
   "cell_type": "markdown",
   "metadata": {},
   "source": [
    "#### Vector Length"
   ]
  },
  {
   "cell_type": "code",
   "execution_count": null,
   "metadata": {},
   "outputs": [],
   "source": [
    "\n",
    "import numpy as np\n",
    "\n",
    "X = np.array([1,2,3])\n",
    "\n",
    "\n",
    "# In numpy, there are two ways to compute vector length\n",
    "\n",
    "\n",
    "print(np.sqrt(np.sum(X**2))) # More verbose method\n",
    "print()\n",
    "print(np.linalg.norm(X))"
   ]
  },
  {
   "cell_type": "markdown",
   "metadata": {},
   "source": [
    "#### Unit Vector"
   ]
  },
  {
   "cell_type": "code",
   "execution_count": null,
   "metadata": {},
   "outputs": [],
   "source": [
    "\n",
    "import numpy as np\n",
    "\n",
    "X = np.array([1,2,3])\n",
    "\n",
    "n = X / np.linalg.norm(X)\n",
    "\n",
    "print('Vector n is', n)"
   ]
  },
  {
   "cell_type": "code",
   "execution_count": null,
   "metadata": {},
   "outputs": [],
   "source": [
    "# If we take length of vector n, we'll get 1\n",
    "\n",
    "print('The length of vector n is:', np.linalg.norm(n))"
   ]
  },
  {
   "cell_type": "markdown",
   "metadata": {},
   "source": [
    "#### Scalar Product"
   ]
  },
  {
   "cell_type": "code",
   "execution_count": null,
   "metadata": {},
   "outputs": [],
   "source": [
    "\n",
    "import numpy as np\n",
    "\n",
    "# It's more convenient to represent the vector as a Numpy ndarray, rather than Python tuple.\n",
    "\n",
    "X = np.array([1,2,3])\n",
    "Y = np.array((2,4,6))\n",
    "\n",
    "# Numpy have two possible ways to compute vector inner product\n",
    "\n",
    "scalar_prod = np.sum(X * Y)\n",
    "\n",
    "dot_prod = np.dot(X,Y)\n",
    "\n",
    "print('Scalar Product is:', dot_prod)\n",
    "\n",
    "\n",
    "\n",
    "# Compute angle between vector X and vector Y\n",
    "cosine_theta = np.dot(X, Y) / (np.linalg.norm(X) * np.linalg.norm(Y))\n",
    "\n",
    "# Angle theta \n",
    "theta = np.arccos(cosine_theta)\n",
    "\n",
    "print('Cosine theta is:',cosine_theta)\n",
    "print('Angle theta is:',theta)"
   ]
  },
  {
   "cell_type": "markdown",
   "metadata": {},
   "source": [
    "## Matrix\n",
    "<a id=\"Matrix\"></a>"
   ]
  },
  {
   "cell_type": "markdown",
   "metadata": {},
   "source": [
    "### Matrices and Matrix Notation\n",
    "<a id=\"Matrices_And_Matrix_Notation\"></a>\n",
    "***\n",
    "\n",
    "Matrix is a rectangular array of numbers and/or expressions that are arranged into rows and columns. These rows and columns can be considered as row and column vectors. So, the matrix is the rectangular array which contains either row or column vectors. Generally, capital letters are used to denote matrix and lower case letters to denote each element of that matrix and I will follow this convention. A matrix arranges numbers into rows and columns, like this:\n",
    "\n",
    "\n",
    "\\begin{align*}A =\n",
    "\\begin{bmatrix}\n",
    "a_{1,1} & a_{1,2}\\\\\n",
    "a_{2,1} & a_{2,2}\n",
    "\\end{bmatrix}_{2\\times2}\n",
    "\\end{align*}\n",
    "\n",
    "\n",
    "Here, matrix $A$ has four elements, denoted by lower letter $a$, where subscripts denote row and column number. For example, $a_{2,1}$ denotes element at the cross of the second row and first column."
   ]
  },
  {
   "cell_type": "markdown",
   "metadata": {},
   "source": [
    "### Dimension of Matrices\n",
    "<a id=\"Dimension_Of_Matrix\"></a>\n",
    "***\n",
    "\n",
    "If a matrix $A$ has $n$ rows and $m$ columns, we call $A$ an $n\\times m$ matrix and it is read as **\"n by m matrix\"**. A typical $n\\times m$ matrix $A$ can be written as:\n",
    "\n",
    "\\begin{align*} A =\n",
    "\\begin{bmatrix}\n",
    "a_{11} & a_{12} & \\cdots & a_{1m} \\\\\n",
    "a_{21} & a_{22} & \\cdots & a_{2m} \\\\\n",
    "\\vdots & \\vdots &  & \\vdots \\\\\n",
    "a_{n1} & a_{n2} & \\cdots & a_{nm}\n",
    "\\end{bmatrix}_{n \\times m}\n",
    "\\end{align*}\n",
    "\n",
    "When $n=m$ we have square matrix.\n",
    "\n",
    "To link this matrix to the vector we can rewrite it by the following way:\n",
    "\n",
    "\\begin{align*} A =\n",
    "\\begin{bmatrix}\n",
    "[a_{11} & a_{12} & \\cdots & a_{1m}] \\\\\n",
    "[a_{21} & a_{22} & \\cdots & a_{2m}] \\\\\n",
    "[\\vdots & \\vdots &  & \\vdots] \\\\\n",
    "[a_{n1} & a_{n2} & \\cdots & a_{nm}]\n",
    "\\end{bmatrix}_{n \\times m}\n",
    "\\end{align*}"
   ]
  },
  {
   "cell_type": "markdown",
   "metadata": {},
   "source": [
    "### Matrix Operations\n",
    "<a id=\"Matrix_Operations\"></a>\n",
    "***\n",
    "\n",
    "We add two matrices elementwise. To exist this addition we require that the dimensions of the two matrices coincide. If we have two matrices, $A$ and $B$, addition is defined by:\n",
    "\n",
    "\\begin{align*}\n",
    "A + B =\n",
    "\\begin{bmatrix}\n",
    "a_{11} & \\cdots & a_{1m} \\\\\n",
    "\\vdots & \\vdots & \\vdots \\\\\n",
    "a_{n1} & \\cdots & a_{nm} \\\\\n",
    "\\end{bmatrix} +\n",
    "\\begin{bmatrix}\n",
    "b_{11} & \\cdots & b_{1m} \\\\\n",
    "\\vdots & \\vdots & \\vdots \\\\\n",
    "b_{n1} & \\cdots & b_{nm} \\\\\n",
    "\\end{bmatrix} =\n",
    "\\begin{bmatrix}\n",
    "a_{11} + b_{11} &  \\cdots & a_{1m} + b_{1m} \\\\\n",
    "\\vdots & \\vdots & \\vdots \\\\\n",
    "a_{n1} + b_{n1} &  \\cdots & a_{nm} + b_{nm} \\\\\n",
    "\\end{bmatrix}\n",
    "\\end{align*}\n",
    "\n",
    "Matrix subtraction is defined in the same fashion as the addition.\n",
    "\n",
    "The nagative of a matrix, is just a matrix with the sign of each element reversed:\n",
    "\n",
    "\\begin{align*} A =\n",
    "\\begin{bmatrix}\n",
    "a_{11} & a_{12} & \\cdots & a_{1m} \\\\\n",
    "a_{21} & a_{22} & \\cdots & a_{2m} \\\\\n",
    "\\vdots & \\vdots &  & \\vdots \\\\\n",
    "a_{n1} & a_{n2} & \\cdots & a_{nm}\n",
    "\\end{bmatrix}\n",
    "\\end{align*}\n",
    "\n",
    "\\begin{align*} -A =\n",
    "\\begin{bmatrix}\n",
    "-a_{11} & -a_{12} & \\cdots & -a_{1m} \\\\\n",
    "-a_{21} & -a_{22} & \\cdots & -a_{2m} \\\\\n",
    "\\vdots & \\vdots &  & \\vdots \\\\\n",
    "-a_{n1} & -a_{n2} & \\cdots & -a_{nm}\n",
    "\\end{bmatrix}\n",
    "\\end{align*}\n",
    "\n",
    "Multiplying matrices is a little more complex than the operations we've seen so far. There are two cases to consider. One is *scalar multiplication* (multiplying a matrix by a single number), and second is *matrix multiplication* (multiplying a matrix by another matrix).\n",
    "\n",
    "If we have some scalar or number $\\gamma$ and matrix $A$, scalar multiplication is:\n",
    "\n",
    "\\begin{align*}\n",
    "\\gamma A =\n",
    "\\gamma\n",
    "\\begin{bmatrix}\n",
    "a_{11} &  \\cdots & a_{1m} \\\\\n",
    "\\vdots & \\vdots  & \\vdots \\\\\n",
    "a_{n1} &  \\cdots & a_{nm} \\\\\n",
    "\\end{bmatrix} =\n",
    "\\\n",
    "\\begin{bmatrix}\n",
    "\\gamma a_{11} & \\cdots & \\gamma a_{1m} \\\\\n",
    "\\vdots & \\vdots & \\vdots \\\\\n",
    "\\gamma a_{n1} & \\cdots & \\gamma a_{nm} \\\\\n",
    "\\end{bmatrix}\n",
    "\\end{align*}\n",
    "\n",
    "To multiply two matrices, we take **inner product of $i$-th row of the matrix $A$ and $j$-th columns of matrix $B$**. If we have two matrices $A$ is $n \\times k$ and $B$ is $j \\times m$, then to multiply $A$ and $B$, we require $k=j$, and resulting matrix $AB$ is $n \\times m$.\n",
    "\n",
    "\\begin{align*}\n",
    "A \\cdot B =\n",
    "\\begin{bmatrix}\n",
    "a_{11} & \\cdots & a_{1k} \\\\\n",
    "\\vdots & \\vdots & \\vdots \\\\\n",
    "a_{n1} & \\cdots & a_{nk} \\\\\n",
    "\\end{bmatrix}_{n\\times k}\n",
    "\\cdot\n",
    "\\begin{bmatrix}\n",
    "b_{11} & \\cdots & b_{1m} \\\\\n",
    "\\vdots & \\vdots & \\vdots \\\\\n",
    "b_{j1} & \\cdots & b_{jm} \\\\\n",
    "\\end{bmatrix}_{j \\times m} =\n",
    "\\\n",
    "\\begin{bmatrix}\n",
    "(a_{11} \\times b_{11} & +~\\cdots~+ & a_{1k} \\times b_{j1}),~\\cdots~,(a_{11} \\times b_{1m} & +~\\cdots~+ & a_{1k} \\times b_{jm}) \\\\\n",
    "\\vdots & \\vdots & \\vdots \\\\\n",
    "(a_{n1} \\times b_{11} & +~\\cdots~+ & a_{nk} \\times b_{j1}),~\\cdots~,(a_{n1} \\times b_{1m} & +~\\cdots~+ & a_{nk} \\times b_{jm})\\\\\n",
    "\\end{bmatrix}_{n \\times m}\n",
    "\\end{align*}\n",
    "\n",
    "If you did not catch the idea of matrix multiplication don't worry. In numerical representation section I will provide simpler example and some extra source to take a look.\n",
    "\n",
    "> **Note** that, in matrix multiplication, $A \\cdot B$ is **not** same as $B \\cdot A$."
   ]
  },
  {
   "cell_type": "markdown",
   "metadata": {},
   "source": [
    "### Matrix Transpose\n",
    "<a id=\"Matrix_Transpose\"></a>\n",
    "***\n",
    "\n",
    "In the above example, we saw that the matrix is the collection of vectors. We also know that vectors can be horizontal as well as vertical, or row and column vectors. Now, what if we change in any matrix row vectors into column vectors? This operation is known as transposition. The idea of this operation is to change matrix rows into matrix columns or vice versa, and is denoted by the superscript $T$. \n",
    "\n",
    "\\begin{align*} A =\n",
    "\\begin{bmatrix}\n",
    "a_{11} & a_{12} & \\cdots & a_{1m} \\\\\n",
    "a_{21} & a_{22} & \\cdots & a_{2m} \\\\\n",
    "\\vdots & \\vdots &  & \\vdots \\\\\n",
    "a_{n1} & a_{n2} & \\cdots & a_{nm}\n",
    "\\end{bmatrix}_{n \\times m}\n",
    "\\end{align*}\n",
    "\n",
    "Then \n",
    "\n",
    "\\begin{align*} A^{T} =\n",
    "\\begin{bmatrix}\n",
    "a_{11} & a_{21} & \\cdots & a_{n1} \\\\\n",
    "a_{12} & a_{22} & \\cdots & a_{n2} \\\\\n",
    "\\vdots & \\vdots &  & \\vdots \\\\\n",
    "a_{1m} & a_{2m} & \\cdots & a_{nm}\n",
    "\\end{bmatrix}_{m \\times n}\n",
    "\\end{align*}"
   ]
  },
  {
   "cell_type": "markdown",
   "metadata": {},
   "source": [
    "### Identity Matrix\n",
    "<a id=\"Identity_Matrix\"></a>\n",
    "***\n",
    "\n",
    "There are several different types of matrices. In this post, we will introduce only **identity matix**. Future post will introduce other types of matrices. An identity matrix (usually indicated by a capital $I$) is the equivalent in matrix terms of the number 1. It always has the same number of rows as columns, and it has the value **1** in the diagonal element positions I<sub>1,1</sub>, I<sub>2,2</sub>, etc; and 0 in all other element positions. Here's an example of a $3 \\times 3$ identity matrix:\n",
    "\n",
    "\\begin{align*} I =\n",
    "\\begin{bmatrix}\n",
    "1 & 0 & 0 \\\\\n",
    "0 & 1 & 0 \\\\\n",
    "0 & 0 & 1\n",
    "\\end{bmatrix}_{3 \\times 3}\n",
    "\\end{align*}\n",
    "\n",
    "Multiplying any matrix by an identity matrix is the same as multiplying a number by 1; the result is the same as the original value:"
   ]
  },
  {
   "cell_type": "markdown",
   "metadata": {},
   "source": [
    "### Numerical Representation\n",
    "<a id=\"Numerical_Representation_Matrix\"></a>"
   ]
  },
  {
   "cell_type": "markdown",
   "metadata": {},
   "source": [
    "#### Dimension of a Matrix"
   ]
  },
  {
   "cell_type": "code",
   "execution_count": null,
   "metadata": {},
   "outputs": [],
   "source": [
    "\n",
    "import numpy as np\n",
    "\n",
    "# 3x3 matrix in Numpy\n",
    "\n",
    "A = np.array([[1,2,3],[4,5,6],[7,8,9]])\n",
    "\n",
    "\n",
    "print('Matrix A is', A, sep='\\n')\n",
    "print()\n",
    "print('Dimensions of A is:', A.shape)"
   ]
  },
  {
   "cell_type": "markdown",
   "metadata": {},
   "source": [
    "#### Matrix Addition and Subtraction"
   ]
  },
  {
   "cell_type": "code",
   "execution_count": null,
   "metadata": {},
   "outputs": [],
   "source": [
    "\n",
    "import numpy as np\n",
    "\n",
    "A = np.array([[1,5,3],[4,2,8],[3,6,9]])\n",
    "B = np.array([[1,1,3],[1,2,8],[0,5,3]])\n",
    "\n",
    "A + B\n",
    "A - B\n",
    "\n",
    "print('Matrix A is:', A, sep='\\n')\n",
    "print()\n",
    "print('Matrix B is:', B, sep='\\n')\n",
    "print()\n",
    "print('The sum of them is:', A+B, sep='\\n')\n",
    "print()\n",
    "print('The difference of them is:', A-B, sep='\\n')"
   ]
  },
  {
   "cell_type": "markdown",
   "metadata": {},
   "source": [
    "#### Nergative Matrix"
   ]
  },
  {
   "cell_type": "code",
   "execution_count": null,
   "metadata": {},
   "outputs": [],
   "source": [
    "\n",
    "import numpy as np\n",
    "\n",
    "C = np.array([[-5,-3,-1],[1,3,5]])\n",
    "-C\n",
    "print('Matrix C is:', C, sep='\\n')\n",
    "print()\n",
    "print('The negative of C is:', -C, sep='\\n')"
   ]
  },
  {
   "cell_type": "markdown",
   "metadata": {},
   "source": [
    "#### Matrix - Scalar Multiplication"
   ]
  },
  {
   "cell_type": "code",
   "execution_count": null,
   "metadata": {},
   "outputs": [],
   "source": [
    "\n",
    "import numpy as np\n",
    "\n",
    "A = np.array([[1,2,3],[4,5,6],[7,8,9]])\n",
    "scalar = 2\n",
    "\n",
    "scalar * A\n",
    "\n",
    "print('Matrix A is:', A, sep='\\n')\n",
    "print()\n",
    "print('Scalar is:', scalar, sep='\\n')\n",
    "print()\n",
    "print('Matrix multiplied by the scalar is:', scalar * A, sep='\\n')"
   ]
  },
  {
   "cell_type": "markdown",
   "metadata": {},
   "source": [
    " "
   ]
  },
  {
   "cell_type": "markdown",
   "metadata": {},
   "source": [
    "As I mentioned earlier, matrix multiplication seems to be tricky at a first glance.\n",
    "\n",
    "Let's look at an example:\n",
    "\n",
    "\\begin{align*}\n",
    "\\begin{bmatrix}\n",
    "1 & 2 & 3 \\\\ 4 & 5 & 6\n",
    "\\end{bmatrix}\n",
    "\\cdot\n",
    "\\begin{bmatrix}\n",
    "9 & 8 \\\\ 7 & 6 \\\\ 5 & 4\n",
    "\\end{bmatrix}\n",
    "\\end{align*}\n",
    "\n",
    "Note that the first matrix is $2\\times 3$, and the second matrix is $3\\times 2$. The important thing here is that the first matrix has two rows, and the second matrix has two columns. To perform the multiplication, we first take the dot product of the first ***row*** of the first matrix (1,2,3) and the first ***column*** of the second matrix (9,7,5):\n",
    "\n",
    "\\begin{align*}\n",
    "(1,2,3)\n",
    "\\cdot\n",
    "(9,7,5) =\n",
    "(1 \\times 9) + (2 \\times 7) + (3 \\times 5) = 38\n",
    "\\end{align*}\n",
    "\n",
    "In our resulting matrix (which will always have the same number of ***rows*** as the first matrix, and the same number of ***columns*** as the second matrix), we can enter this into the first row and first column element:\n",
    "\n",
    "\\begin{align*}\n",
    "\\begin{bmatrix}\n",
    "38 & ?\\\\? & ?\n",
    "\\end{bmatrix}\n",
    "\\end{align*}\n",
    "\n",
    "Now we can take the dot product of the first row of the first matrix and the second column of the second matrix:\n",
    "\n",
    "\\begin{align*}\n",
    "(1,2,3) \\cdot (8,6,4) = (1 \\times 8) + (2 \\times 6) + (3 \\times 4) = 32\n",
    "\\end{align*}\n",
    "\n",
    "Let's add that to our resulting matrix in the first row and second column element:\n",
    "\n",
    "\\begin{align*}\n",
    "\\begin{bmatrix}\n",
    "38 & 32\\\\? & ?\n",
    "\\end{bmatrix}\n",
    "\\end{align*}\n",
    "\n",
    "Now we can repeat this process for the second row of the first matrix and the first column of the second matrix:\n",
    "\n",
    "\\begin{align*}\n",
    "(4,5,6) \\cdot (9,7,5) = (4 \\times 9) + (5 \\times 7) + (6 \\times 5) = 101\n",
    "\\end{align*}\n",
    "\n",
    "Which fills in the next element in the result:\n",
    "\n",
    "\\begin{align*}\n",
    "\\begin{bmatrix}\n",
    "38 & 32\\\\101 & ?\n",
    "\\end{bmatrix}\n",
    "\\end{align*}\n",
    "\n",
    "Finally, we get the dot product for the second row of the first matrix and the second column of the second matrix:\n",
    "\n",
    "\\begin{align*}\n",
    "(4,5,6) \\cdot (8,6,4) = (4 \\times 8) + (5 \\times 6) + (6 \\times 4) = 86\n",
    "\\end{align*}\n",
    "\n",
    "Giving us:\n",
    "\n",
    "\\begin{align*}\n",
    "\\begin{bmatrix}\n",
    "38 & 32\\\\101 & 86\n",
    "\\end{bmatrix}\n",
    "\\end{align*}\n",
    "\n",
    "---\n",
    "If this is not enough to catch the idea, take a look this [explanation](https://www.mathsisfun.com/algebra/matrix-multiplying.html)"
   ]
  },
  {
   "cell_type": "markdown",
   "metadata": {},
   "source": [
    "#### Matrix - Matrix Multiplication"
   ]
  },
  {
   "cell_type": "code",
   "execution_count": null,
   "metadata": {},
   "outputs": [],
   "source": [
    "\n",
    "# In Numpy matrix multiplication can be done with no effort\n",
    "\n",
    "import numpy as np\n",
    "\n",
    "A = np.array([[1,2,3],\n",
    "              [4,5,6]])\n",
    "B = np.array([[9,8],\n",
    "              [7,6],\n",
    "              [5,4]])\n",
    "\n",
    "print('A * B is:', np.dot(A,B), sep='\\n')\n",
    "print()\n",
    "print('B * A is:', np.dot(B,A), sep='\\n')"
   ]
  },
  {
   "cell_type": "markdown",
   "metadata": {},
   "source": [
    "#### Matrix Transpose"
   ]
  },
  {
   "cell_type": "code",
   "execution_count": null,
   "metadata": {},
   "outputs": [],
   "source": [
    "\n",
    "import numpy as np\n",
    "\n",
    "A = np.array([[1,2,3],[4,5,6],[7,8,9]])\n",
    "\n",
    "A.T\n",
    "\n",
    "print('Matix A is:', A, sep='\\n')\n",
    "print()\n",
    "print('Transpose of A is:', A.T, sep='\\n')"
   ]
  },
  {
   "cell_type": "markdown",
   "metadata": {},
   "source": [
    "#### Matrix - Identity Matrix Multiplication"
   ]
  },
  {
   "cell_type": "code",
   "execution_count": null,
   "metadata": {},
   "outputs": [],
   "source": [
    "\n",
    "# We have two ways to define identity matrix in Numpy.\n",
    "# First is to define by hand, like above examples, and second is to use Numpy's buildin function\n",
    "\n",
    "import numpy as np\n",
    "\n",
    "I_1 = np.array([[1.,0.,0.],[0.,1.,0.],[0.,0.,1.]])\n",
    "\n",
    "I_2 = np.identity(3)\n",
    "\n",
    "print(I_1)\n",
    "print()\n",
    "print(I_2)"
   ]
  },
  {
   "cell_type": "code",
   "execution_count": null,
   "metadata": {},
   "outputs": [],
   "source": [
    "# Matrix identity multiplication\n",
    "\n",
    "A = np.array([[1,2,3],[4,5,6],[7,8,9]])\n",
    "\n",
    "I = np.identity(3)\n",
    "\n",
    "print('A = ', A, sep='\\n')\n",
    "\n",
    "print('A * I = ', np.dot(A,I), sep='\\n')"
   ]
  },
  {
   "cell_type": "markdown",
   "metadata": {},
   "source": [
    "## Conclusion\n",
    "<a id=\"Conclusion\"></a>"
   ]
  },
  {
   "cell_type": "markdown",
   "metadata": {},
   "source": [
    "In this post, I tried to cover the basics of linear algebra. I depicted some theory with examples solved by hand as well as with Numpy. I do hope, this blog will help you to grab the necessary knowledge in linear algebra basics and further gives you the direction where to dig deeper. I did not provide here further resources due to not to confuse the reader and give freedom to look for some other materials. The following blog will contain full fledge of resources.\n",
    "\n",
    "The post may seem to be extensive. If you feel that I sacrifice some important notions in order for the post to be short or there is(are) inconsistencies, please make a pull request [here](https://github.com/Okroshiashvili/Jupyter-Notebooks).\n",
    "\n",
    "If some part of the blog is someway unclear to you, please comment below."
   ]
  },
  {
   "cell_type": "markdown",
   "metadata": {},
   "source": [
    "## References\n",
    "\n",
    "#### Vector\n",
    "\n",
    "- [Gilbert Strang, Lec21 MIT - Eigenvalues and eigenvectors](https://www.youtube.com/watch?v=lXNXrLcoerU)\n",
    "\n",
    "- [Gilbert Strang, Lec 21 MIT, Spring 2005](https://www.youtube.com/watch?v=lXNXrLcoerU)\n",
    "\n",
    "\n",
    "#### Matrix\n",
    "\n",
    "- [Victor Powell and Lewis Lehe - Interactive representation of eigenvectors](http://setosa.io/ev/eigenvectors-and-eigenvalues/)\n",
    "\n",
    "\n",
    "#### Matrix Decomposition\n",
    "\n",
    "- [Cholesky Decomposition](https://rosettacode.org/wiki/Cholesky_decomposition)\n",
    "\n",
    "\n",
    "\n",
    "#### Eigenvectors\n",
    "\n",
    "- [Victor Powell and Lewis Lehe - Interactive representation of eigenvectors](http://setosa.io/ev/eigenvectors-and-eigenvalues/)\n",
    "\n",
    "\n",
    "#### Linear transformations\n",
    "\n",
    "- [Gilbert Strang - Linear transformation](http://ia802205.us.archive.org/18/items/MIT18.06S05_MP4/30.mp4)\n",
    "\n",
    "- [Linear transformation - demo video](https://www.youtube.com/watch?v=wXCRcnbCsJA)"
   ]
  }
 ],
 "metadata": {
  "kernelspec": {
   "display_name": "Python 3",
   "language": "python",
   "name": "python3"
  },
  "language_info": {
   "codemirror_mode": {
    "name": "ipython",
    "version": 3
   },
   "file_extension": ".py",
   "mimetype": "text/x-python",
   "name": "python",
   "nbconvert_exporter": "python",
   "pygments_lexer": "ipython3",
   "version": "3.6.7"
  },
  "varInspector": {
   "cols": {
    "lenName": 16,
    "lenType": 16,
    "lenVar": 40
   },
   "kernels_config": {
    "python": {
     "delete_cmd_postfix": "",
     "delete_cmd_prefix": "del ",
     "library": "var_list.py",
     "varRefreshCmd": "print(var_dic_list())"
    },
    "r": {
     "delete_cmd_postfix": ") ",
     "delete_cmd_prefix": "rm(",
     "library": "var_list.r",
     "varRefreshCmd": "cat(var_dic_list()) "
    }
   },
   "types_to_exclude": [
    "module",
    "function",
    "builtin_function_or_method",
    "instance",
    "_Feature"
   ],
   "window_display": false
  }
 },
 "nbformat": 4,
 "nbformat_minor": 2
}
